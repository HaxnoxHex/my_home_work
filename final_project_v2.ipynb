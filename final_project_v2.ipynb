{
 "cells": [
  {
   "cell_type": "markdown",
   "metadata": {},
   "source": [
    "### 1.1 Условие\n",
    "\n",
    "Одной из основных задач аналитика в нашей команде является корректное проведение экспериментов. \n",
    "Для этого мы применяем метод A/B–тестирования. \n",
    "В ходе тестирования одной гипотезы целевой группе была предложена новая механика оплаты услуг на сайте,\n",
    "у контрольной группы оставалась базовая механика. \n",
    "В качестве задания Вам необходимо проанализировать итоги эксперимента и сделать вывод,\n",
    "стоит ли запускать новую механику оплаты на всех пользователей.\n",
    "\n",
    "### 1.2 Входные данные\n",
    "\n",
    "В качестве входных данных Вы имеете 4 csv-файла:\n",
    "\n",
    "groups.csv - файл с информацией о принадлежности пользователя к контрольной или\n",
    "экспериментальной группе (А – контроль, B – целевая группа) <br> \n",
    "groups_add.csv - дополнительный файл с пользователями, который вам прислали спустя 2 дня после передачи данных <br> \n",
    "active_studs.csv - файл с информацией о пользователях, которые зашли на платформу в дни проведения эксперимента. <br> \n",
    "checks.csv - файл с информацией об оплатах пользователей в дни проведения эксперимента.<br> \n",
    "<br>\n",
    "### 1.3 Вопросы\n",
    "\n",
    "Предлагаем Вам ответить на следующие вопросы:\n",
    "\n",
    "На какие метрики Вы смотрите в ходе анализа и почему?<br> \n",
    "Имеются ли различия в показателях и с чем они могут быть связаны?<br> \n",
    "Являются ли эти различия статистически значимыми?<br> \n",
    "Стоит ли запускать новую механику на всех пользователей?<br> \n",
    "Данный список вопросов не является обязательным, и Вы можете при своём ответе опираться на собственный план.\n",
    "\n",
    "### 1.4 Требования к ответу\n",
    "\n",
    "При выполнении тестового задания необходимо использовать язык программирования Python. \n",
    "В файле обязательно должны быть комментарии к тем действиям, которые Вы выполняете с данными. \n",
    "Файл должен представлять собой законченный отчёт с выводами, сделанными в ходе исследования."
   ]
  },
  {
   "cell_type": "code",
   "execution_count": 1,
   "metadata": {},
   "outputs": [],
   "source": [
    "import pandas as pd\n",
    "\n",
    "import numpy as np\n",
    "\n",
    "import matplotlib.pyplot as plt\n",
    "%matplotlib inline\n",
    "import seaborn as sns\n",
    "\n",
    "from scipy.stats import ttest_ind\n",
    "import statsmodels.stats.proportion as proportion\n",
    "import statsmodels.stats.power as smp\n",
    "\n",
    "import bootstrapped.bootstrap as bs\n",
    "import bootstrapped.stats_functions as bs_stats\n",
    "import bootstrapped.compare_functions as bs_compare\n",
    "\n",
    "import requests\n",
    "from urllib.parse import urlencode"
   ]
  },
  {
   "cell_type": "code",
   "execution_count": 2,
   "metadata": {},
   "outputs": [],
   "source": [
    "def loaded_data(base_url='https://cloud-api.yandex.net/v1/disk/public/resources/download?',\n",
    "                    groups='https://disk.yandex.ru/d/UhyYx41rTt3clQ',\n",
    "                    groups_add='https://disk.yandex.ru/d/5Kxrz02m3IBUwQ',\n",
    "                    active_studs='https://disk.yandex.ru/d/Tbs44Bm6H_FwFQ',\n",
    "                    checks='https://disk.yandex.ru/d/pH1q-VqcxXjsVA'):\n",
    "    \n",
    "    # загрузим данные с диска\n",
    "    url_groups= base_url + urlencode(dict(public_key= groups)) \n",
    "    url_groups_add= base_url + urlencode(dict(public_key= groups_add))\n",
    "    url_key_active_studs = base_url + urlencode(dict(public_key= active_studs))\n",
    "    url_key_checks= base_url + urlencode(dict(public_key= checks))\n",
    "\n",
    "    df_groups= pd.read_csv(requests.get(url_groups).json()['href'], sep= ';')\n",
    "    df_groups_add= pd.read_csv(requests.get(url_groups_add).json()['href'], sep= ',')\n",
    "    df_active_studs = pd.read_csv(requests.get(url_key_active_studs).json()['href'], sep= ';')\n",
    "    df_checks = pd.read_csv(requests.get(url_key_checks).json()['href'], sep= ';')\n",
    "    \n",
    "    # подготовка данных\n",
    "    df_groups = pd.concat([df_groups, df_groups_add], axis=0)\n",
    "    df_groups = df_groups.rename(columns={'id':'student_id'})\n",
    "    df_active_studs['active'] = 1\n",
    "    df = (df_groups\n",
    "            .merge(df_active_studs,\n",
    "                   how='left',\n",
    "                   left_on='student_id',\n",
    "                   right_on='student_id')\n",
    "            .merge(df_checks,\n",
    "                   how='left',\n",
    "                   on='student_id')\n",
    "          )\n",
    "    df['active'] = df['active'].fillna(0).astype(int)\n",
    "    df['rev'] = df['rev'].fillna(0).astype(int)\n",
    "    \n",
    "    return df"
   ]
  },
  {
   "cell_type": "code",
   "execution_count": 3,
   "metadata": {},
   "outputs": [
    {
     "data": {
      "text/html": [
       "<div>\n",
       "<style scoped>\n",
       "    .dataframe tbody tr th:only-of-type {\n",
       "        vertical-align: middle;\n",
       "    }\n",
       "\n",
       "    .dataframe tbody tr th {\n",
       "        vertical-align: top;\n",
       "    }\n",
       "\n",
       "    .dataframe thead th {\n",
       "        text-align: right;\n",
       "    }\n",
       "</style>\n",
       "<table border=\"1\" class=\"dataframe\">\n",
       "  <thead>\n",
       "    <tr style=\"text-align: right;\">\n",
       "      <th></th>\n",
       "      <th>student_id</th>\n",
       "      <th>grp</th>\n",
       "      <th>active</th>\n",
       "      <th>rev</th>\n",
       "    </tr>\n",
       "  </thead>\n",
       "  <tbody>\n",
       "    <tr>\n",
       "      <th>0</th>\n",
       "      <td>1489</td>\n",
       "      <td>B</td>\n",
       "      <td>0</td>\n",
       "      <td>0</td>\n",
       "    </tr>\n",
       "    <tr>\n",
       "      <th>1</th>\n",
       "      <td>1627</td>\n",
       "      <td>A</td>\n",
       "      <td>1</td>\n",
       "      <td>990</td>\n",
       "    </tr>\n",
       "    <tr>\n",
       "      <th>2</th>\n",
       "      <td>1768</td>\n",
       "      <td>B</td>\n",
       "      <td>0</td>\n",
       "      <td>0</td>\n",
       "    </tr>\n",
       "    <tr>\n",
       "      <th>3</th>\n",
       "      <td>1783</td>\n",
       "      <td>B</td>\n",
       "      <td>0</td>\n",
       "      <td>0</td>\n",
       "    </tr>\n",
       "    <tr>\n",
       "      <th>4</th>\n",
       "      <td>1794</td>\n",
       "      <td>A</td>\n",
       "      <td>0</td>\n",
       "      <td>0</td>\n",
       "    </tr>\n",
       "    <tr>\n",
       "      <th>...</th>\n",
       "      <td>...</td>\n",
       "      <td>...</td>\n",
       "      <td>...</td>\n",
       "      <td>...</td>\n",
       "    </tr>\n",
       "    <tr>\n",
       "      <th>74571</th>\n",
       "      <td>200247820</td>\n",
       "      <td>B</td>\n",
       "      <td>0</td>\n",
       "      <td>0</td>\n",
       "    </tr>\n",
       "    <tr>\n",
       "      <th>74572</th>\n",
       "      <td>201032527</td>\n",
       "      <td>B</td>\n",
       "      <td>0</td>\n",
       "      <td>0</td>\n",
       "    </tr>\n",
       "    <tr>\n",
       "      <th>74573</th>\n",
       "      <td>201067612</td>\n",
       "      <td>B</td>\n",
       "      <td>0</td>\n",
       "      <td>0</td>\n",
       "    </tr>\n",
       "    <tr>\n",
       "      <th>74574</th>\n",
       "      <td>201067653</td>\n",
       "      <td>B</td>\n",
       "      <td>0</td>\n",
       "      <td>0</td>\n",
       "    </tr>\n",
       "    <tr>\n",
       "      <th>74575</th>\n",
       "      <td>201067659</td>\n",
       "      <td>B</td>\n",
       "      <td>0</td>\n",
       "      <td>0</td>\n",
       "    </tr>\n",
       "  </tbody>\n",
       "</table>\n",
       "<p>74576 rows × 4 columns</p>\n",
       "</div>"
      ],
      "text/plain": [
       "       student_id grp  active  rev\n",
       "0            1489   B       0    0\n",
       "1            1627   A       1  990\n",
       "2            1768   B       0    0\n",
       "3            1783   B       0    0\n",
       "4            1794   A       0    0\n",
       "...           ...  ..     ...  ...\n",
       "74571   200247820   B       0    0\n",
       "74572   201032527   B       0    0\n",
       "74573   201067612   B       0    0\n",
       "74574   201067653   B       0    0\n",
       "74575   201067659   B       0    0\n",
       "\n",
       "[74576 rows x 4 columns]"
      ]
     },
     "execution_count": 3,
     "metadata": {},
     "output_type": "execute_result"
    }
   ],
   "source": [
    "full_df = loaded_data()\n",
    "full_df"
   ]
  },
  {
   "cell_type": "markdown",
   "metadata": {},
   "source": [
    "**student_id** - id студента<br>\n",
    "**grp** - группа (а - контрольная, б - тестовая)<br>\n",
    "**active** - пользователи, которые зашли на платформу в дни проведения эксперимента<br>\n",
    "**rev** - оплата<br>\n",
    "\n",
    "\n",
    "\n",
    "\n"
   ]
  },
  {
   "cell_type": "code",
   "execution_count": 4,
   "metadata": {},
   "outputs": [
    {
     "name": "stdout",
     "output_type": "stream",
     "text": [
      "B    59883\n",
      "A    14693\n",
      "Name: grp, dtype: int64 B    0.80298\n",
      "A    0.19702\n",
      "Name: grp, dtype: float64 grp  active\n",
      "A    0          19276\n",
      "     1          72820\n",
      "B    0          86256\n",
      "     1         394974\n",
      "Name: rev, dtype: int64      count  nunique\n",
      "grp                \n",
      "A    14693    14693\n",
      "B    59883    59883\n"
     ]
    }
   ],
   "source": [
    "# Посмотрим , что есть в наших данных. размер групп,\n",
    "# разделенную по группам и активности,\n",
    "# кол-во уникальных пользователей и сравним с общим числом пользователей\n",
    "print(\n",
    "    full_df['grp'].value_counts(), \n",
    "    full_df['grp'].value_counts(normalize=True),\n",
    "    full_df.groupby(['grp','active'])['rev'].sum(),\n",
    "    full_df.groupby('grp')['student_id'].agg(['count','nunique'])\n",
    "    )"
   ]
  },
  {
   "cell_type": "code",
   "execution_count": 5,
   "metadata": {},
   "outputs": [],
   "source": [
    "# Посмтрим распределение студентов по группам\n",
    "def plot_segment_distribution(df, segment_columns, test_factor):\n",
    "    for segment in segment_columns:\n",
    "        agg_data = df.groupby(by = [test_factor, segment])\\\n",
    "        .rev.sum().reset_index()\n",
    "        sns.catplot(x = segment, y= 'rev',hue = test_factor,\n",
    "                   data = agg_data, kind = 'bar',\n",
    "                   height = 4, aspect = 1.5)"
   ]
  },
  {
   "cell_type": "code",
   "execution_count": 6,
   "metadata": {},
   "outputs": [
    {
     "data": {
      "image/png": "[encoded data removed]",
      "text/plain": [
       "<Figure size 474.875x288 with 1 Axes>"
      ]
     },
     "metadata": {
      "needs_background": "light"
     },
     "output_type": "display_data"
    }
   ],
   "source": [
    "plot_segment_distribution(full_df,['active'],'grp')"
   ]
  },
  {
   "cell_type": "markdown",
   "metadata": {},
   "source": [
    "***В наших данных есть часть данных с пользователями , которые не были активны в дни проведения тестов. В том числе оплатившие курс. Однако , нельзя достоверно утверждать откуда они появились. Следовательно их необходимо отделить от исследуемых данных.***"
   ]
  },
  {
   "cell_type": "code",
   "execution_count": 7,
   "metadata": {},
   "outputs": [
    {
     "name": "stdout",
     "output_type": "stream",
     "text": [
      "     student_id    rev\n",
      "grp                   \n",
      "A         13155  19276\n",
      "B         53080  86256      student_id    rev\n",
      "grp                   \n",
      "A            29  19276\n",
      "B           120  86256\n"
     ]
    }
   ],
   "source": [
    "print(full_df\\\n",
    "    .query('active ==0')\\\n",
    "    .groupby(['grp'])[['student_id','rev']]\\\n",
    "    .agg({'student_id':'count', 'rev':'sum'}), \n",
    "    full_df\\\n",
    "    .query(\"active == 0 and rev > 0\")\\\n",
    "    .groupby(['grp'])[['student_id','rev']]\\\n",
    "    .agg({'student_id':'count', 'rev':'sum'}) \n",
    "     )"
   ]
  },
  {
   "cell_type": "markdown",
   "metadata": {},
   "source": [
    "В итоге получается, что у нас 149 человек оплатили услугу, но при этом не проявляли активность во время проведения теста. \n",
    "Нельзя точно сказать в чем причина. ошибка при переводе или отложенный платеж. Но эти данные стоит исключить."
   ]
  },
  {
   "cell_type": "code",
   "execution_count": 8,
   "metadata": {},
   "outputs": [],
   "source": [
    "full_df['paid_flag'] = (full_df['rev'] > 0).astype(int)"
   ]
  },
  {
   "cell_type": "code",
   "execution_count": 9,
   "metadata": {
    "scrolled": true
   },
   "outputs": [
    {
     "data": {
      "text/html": [
       "<div>\n",
       "<style scoped>\n",
       "    .dataframe tbody tr th:only-of-type {\n",
       "        vertical-align: middle;\n",
       "    }\n",
       "\n",
       "    .dataframe tbody tr th {\n",
       "        vertical-align: top;\n",
       "    }\n",
       "\n",
       "    .dataframe thead th {\n",
       "        text-align: right;\n",
       "    }\n",
       "</style>\n",
       "<table border=\"1\" class=\"dataframe\">\n",
       "  <thead>\n",
       "    <tr style=\"text-align: right;\">\n",
       "      <th></th>\n",
       "      <th>grp</th>\n",
       "      <th>count_student</th>\n",
       "      <th>rev_sum</th>\n",
       "      <th>payed_studs</th>\n",
       "      <th>arpu</th>\n",
       "      <th>arppu</th>\n",
       "      <th>cr</th>\n",
       "    </tr>\n",
       "  </thead>\n",
       "  <tbody>\n",
       "    <tr>\n",
       "      <th>0</th>\n",
       "      <td>A</td>\n",
       "      <td>1538</td>\n",
       "      <td>72820</td>\n",
       "      <td>78</td>\n",
       "      <td>47.35</td>\n",
       "      <td>933.59</td>\n",
       "      <td>5.07</td>\n",
       "    </tr>\n",
       "    <tr>\n",
       "      <th>1</th>\n",
       "      <td>B</td>\n",
       "      <td>6803</td>\n",
       "      <td>394974</td>\n",
       "      <td>314</td>\n",
       "      <td>58.06</td>\n",
       "      <td>1257.88</td>\n",
       "      <td>4.62</td>\n",
       "    </tr>\n",
       "  </tbody>\n",
       "</table>\n",
       "</div>"
      ],
      "text/plain": [
       "  grp  count_student  rev_sum  payed_studs   arpu    arppu    cr\n",
       "0   A           1538    72820           78  47.35   933.59  5.07\n",
       "1   B           6803   394974          314  58.06  1257.88  4.62"
      ]
     },
     "execution_count": 9,
     "metadata": {},
     "output_type": "execute_result"
    }
   ],
   "source": [
    "active_df = full_df.query('active !=0')\n",
    "\n",
    "\n",
    "# Подготовим сводную таблицу с интересующими нас метриками\n",
    "# Сгруппируем и посчитаем основные показатели по группам\n",
    "active_grp_df = (active_df\n",
    "         .groupby(['grp']\n",
    "                  , as_index = False)\n",
    "         .agg({'student_id':'count' , 'rev':'sum'})\\\n",
    "         .rename(columns={'student_id' : 'count_student' , 'rev' : 'rev_sum' })\n",
    "                )\n",
    "# Отдельно расчитаем количество заплтивших студентов\n",
    "count_a = (active_df\n",
    "           .query('rev > 0 & grp == \"A\"')['student_id']\n",
    "           .count()\n",
    "          )\n",
    "count_b = (active_df\n",
    "           .query('rev > 0 & grp == \"B\"')['student_id']\n",
    "           .count())\n",
    "# Добавим оплативших к нашей таблице\n",
    "active_grp_df['payed_studs'] = 0  \n",
    "active_grp_df.loc[active_grp_df['grp'] == 'A', 'payed_studs'] = count_a\n",
    "active_grp_df.loc[active_grp_df['grp'] == 'B', 'payed_studs'] = count_b\n",
    "# Посчитаем ARPU - отношение общей суммы платежей к количеству активных пользователей.\n",
    "active_grp_df['arpu'] = ((active_grp_df\\\n",
    "                          .rev_sum/active_grp_df\\\n",
    "                          .count_student)\n",
    "                          .round(2)\n",
    "                        )\n",
    "# Посчитаем ARPPU - отношение общей суммы к количеству активных оплативших пользователей.\n",
    "active_grp_df['arppu'] = ((active_grp_df\\\n",
    "                           .rev_sum/active_grp_df\\\n",
    "                           .payed_studs)\n",
    "                           .round(2)\n",
    "                         )\n",
    "# Посчитаем CR - отношение оплатиших пользователей к общему числу студентов в процентах.\n",
    "active_grp_df['cr'] = (((active_grp_df\\\n",
    "                         .payed_studs/active_grp_df\\\n",
    "                         .count_student)\n",
    "                         *100)\n",
    "                         .round(2)\n",
    "                      )\n",
    "active_grp_df"
   ]
  },
  {
   "cell_type": "markdown",
   "metadata": {},
   "source": [
    "Мы видим увеличение ARPPU и ARPU , но незначительное падение CR. Следовательно у нас увеличивается платеж от одного пользователя. Но по всей видимости при этом мы теряем часть менее платежеспособных клиентов."
   ]
  },
  {
   "cell_type": "markdown",
   "metadata": {},
   "source": [
    "## Статзначимость\n",
    " Стоит отметить, что группы по размерам сильно отличаются, то в данном случае лучше использовать метод Bootstrap."
   ]
  },
  {
   "cell_type": "markdown",
   "metadata": {},
   "source": [
    "### Сформулируем гипотезу ARPU(отношение общей суммы платежей к количеству активных пользователей)\n",
    "H0 - новая механника не привела к изменнениям метрик\n",
    "Н1 - новая мехуника привела к изменения"
   ]
  },
  {
   "cell_type": "code",
   "execution_count": 10,
   "metadata": {},
   "outputs": [
    {
     "data": {
      "image/png": "[encoded data removed]",
      "text/plain": [
       "<Figure size 576x432 with 1 Axes>"
      ]
     },
     "metadata": {
      "needs_background": "light"
     },
     "output_type": "display_data"
    }
   ],
   "source": [
    "# Разделение данных на две группы A и B\n",
    "ctrl_A = active_df[(active_df['grp'] == 'A') & (active_df['rev'] > 0)]\n",
    "test_B = active_df[(active_df['grp'] == 'B') & (active_df['rev'] > 0)]\n",
    "rev_A = ctrl_A['rev'].values\n",
    "rev_B = test_B['rev'].values\n",
    "\n",
    "# Bootstrap анализ для ARPU\n",
    "boot_result_arpu = bs.bootstrap_ab(test=rev_B, ctrl=rev_A, stat_func=bs_stats.mean, compare_func=bs_compare.difference, return_distribution=True)\n",
    "\n",
    "borders = np.percentile(boot_result_arpu, [2.5, 97.5])\n",
    "\n",
    "# Визуализация результатов\n",
    "plt.figure(figsize=(8, 6))\n",
    "sns.histplot(boot_result_arpu, kde=True, color='blue', label='ARPU')\n",
    "plt.title('Bootstrap распределение ARPU')\n",
    "plt.axvline(0, color='red', linestyle='--', label='Нулевая разница')\n",
    "plt.vlines(borders, ymin=0, ymax=500, linestyles='--', colors='grey', label='95% доверительный интервал')\n",
    "plt.legend()\n",
    "plt.show()"
   ]
  },
  {
   "cell_type": "markdown",
   "metadata": {},
   "source": [
    "### \"0\" не попадает в довериельный интервал - отметаем H0 гипотезу!\n",
    "Различие считается статистически значимым."
   ]
  },
  {
   "cell_type": "markdown",
   "metadata": {},
   "source": [
    "### Сформулируем гипотезу ARPPU(отношение общей суммы платежей к количеству активных пользователей)\n",
    "H0 - новая механника не привела к изменнениям метрик Н1 - новая мехуника привела к изменения"
   ]
  },
  {
   "cell_type": "code",
   "execution_count": 12,
   "metadata": {},
   "outputs": [
    {
     "data": {
      "image/png": "[encoded data removed]",
      "text/plain": [
       "<Figure size 576x432 with 1 Axes>"
      ]
     },
     "metadata": {
      "needs_background": "light"
     },
     "output_type": "display_data"
    }
   ],
   "source": [
    "# Извлечение данных о выручке только от платящих пользователей для каждой группы\n",
    "rev_A_pay = ctrl_A[ctrl_A['paid_flag'] == 1]['rev'].values\n",
    "rev_B_pay = test_B[test_B['paid_flag'] == 1]['rev'].values\n",
    "\n",
    "# Bootstrap анализ для ARPPU\n",
    "boot_result_arppu = bs.bootstrap_ab(test=rev_B_pay,\n",
    "                                    ctrl=rev_A_pay, \n",
    "                                    stat_func=bs_stats.mean, \n",
    "                                    compare_func=bs_compare.difference,\n",
    "                                    return_distribution=True\n",
    "                                   )\n",
    "\n",
    "borders = np.percentile(boot_result_arppu, [2.5, 97.5])\n",
    "\n",
    "# Визуализация результатов\n",
    "plt.figure(figsize=(8, 6))\n",
    "sns.histplot(boot_result_arppu, kde=True, color='blue', label='ARPPU')\n",
    "plt.title('Bootstrap распределение ARPPU')\n",
    "plt.axvline(0, color='red', linestyle='--', label='Нулевая разница')\n",
    "plt.vlines(borders, ymin=0, ymax=500, linestyles='--', colors='grey', label='95% доверительный интервал')\n",
    "plt.legend()\n",
    "plt.show()"
   ]
  },
  {
   "cell_type": "markdown",
   "metadata": {},
   "source": [
    "### \"0\" не попадает в довериельный интервал - отметаем H0 гипотезу!\n",
    "Различие считается статистически значимым."
   ]
  },
  {
   "cell_type": "markdown",
   "metadata": {},
   "source": [
    "### Сформулируем гипотезу СR(оказатель конверсии из активного в оплатившего)\n",
    "H0 - новая механника не привела к изменнениям метрик Н1 - новая мехуника привела к изменения"
   ]
  },
  {
   "cell_type": "code",
   "execution_count": 13,
   "metadata": {
    "scrolled": true
   },
   "outputs": [
    {
     "data": {
      "image/png": "[encoded data removed]",
      "text/plain": [
       "<Figure size 576x432 with 1 Axes>"
      ]
     },
     "metadata": {
      "needs_background": "light"
     },
     "output_type": "display_data"
    }
   ],
   "source": [
    "# Расчет конверсии для каждой группы\n",
    "conversion_A = active_df[active_df['grp'] == 'A']['paid_flag'].values\n",
    "conversion_B = active_df[active_df['grp'] == 'B']['paid_flag'].values\n",
    "\n",
    "# Bootstrap анализ для конверсии\n",
    "boot_result_conversion = bs.bootstrap_ab(test=conversion_A,\n",
    "                                         ctrl=conversion_B,\n",
    "                                         stat_func=bs_stats.mean, \n",
    "                                         compare_func=bs_compare.difference, \n",
    "                                         return_distribution=True)\n",
    "\n",
    "# Расчет доверительных интервалов\n",
    "borders = np.percentile(boot_result_conversion, [2.5, 97.5])\n",
    "\n",
    "# Визуализация результатов\n",
    "plt.figure(figsize=(8, 6))\n",
    "sns.histplot(boot_result_conversion, kde=True, color='blue', label='Conversion Rate')\n",
    "plt.title('Bootstrap распределение конверсии')\n",
    "plt.axvline(0, color='red', linestyle='--', label='Нулевая разница')\n",
    "plt.vlines(borders, ymin=0, ymax=500, linestyles='--', colors='grey', label='95% доверительный интервал')\n",
    "plt.legend()\n",
    "plt.show()\n"
   ]
  },
  {
   "cell_type": "markdown",
   "metadata": {},
   "source": [
    "## \"0\" попадает в довериельный интервал - принимаем H0 гипотезу!\n",
    "Различие считается статистически значимым."
   ]
  },
  {
   "cell_type": "markdown",
   "metadata": {},
   "source": [
    "## ВЫВОД\n",
    "\n",
    "Входе проведенных исследований было установлена вероятная статистически значимая взаимосвязь в ростом таких метрик ,как ARPU и ARPPU и небольшое снижение конверсии CR не являющееся статистически значимы. Из чего можно сделать вывод , что стоит применить эту механнику на всю аудиторию."
   ]
  },
  {
   "cell_type": "markdown",
   "metadata": {},
   "source": [
    "## Задание 2. SQL\n",
    "### 2.1 Очень усердные ученики.\n",
    "\n",
    "### 2.1.1 Условие\n",
    "\n",
    "Образовательные курсы состоят из различных уроков, каждый из которых состоит из нескольких маленьких заданий. Каждое такое маленькое задание называется \"горошиной\".\n",
    "\n",
    "Назовём очень усердным учеником того пользователя, который хотя бы раз за текущий месяц правильно решил 20 горошин.\n",
    "\n",
    "### 2.1.2 Задача\n",
    "\n",
    "Дана таблица default.peas:\n",
    "\n",
    "Название атрибута |Тип атрибута\t| Смысловое значение<br>\n",
    "st_id | int\tID | ученика<br>\n",
    "timest | timestamp | Время решения карточки<br>\n",
    "correct | bool | Правильно ли решена горошина?<br>\n",
    "subject | text | Дисциплина, в которой находится горошина\n",
    "\n",
    "\n",
    "Необходимо написать оптимальный запрос, который даст информацию о количестве очень усердных студентов.NB! Под усердным студентом мы понимаем студента, который правильно решил 20 задач за текущий месяц."
   ]
  },
  {
   "cell_type": "code",
   "execution_count": 14,
   "metadata": {},
   "outputs": [],
   "source": [
    "# Импортируем библиотеку\n",
    "import pandahouse as ph"
   ]
  },
  {
   "cell_type": "code",
   "execution_count": 15,
   "metadata": {},
   "outputs": [],
   "source": [
    "# Далее создаем словарь connection с нужными параметрами для подключения к default\n",
    "connection_default = {'host': 'https://clickhouse.lab.karpov.courses',\n",
    "                      'database':'default',\n",
    "                      'user':'student', \n",
    "                      'password':'dpo_python_2020'\n",
    "                     }"
   ]
  },
  {
   "cell_type": "code",
   "execution_count": 16,
   "metadata": {},
   "outputs": [
    {
     "data": {
      "text/html": [
       "<div>\n",
       "<style scoped>\n",
       "    .dataframe tbody tr th:only-of-type {\n",
       "        vertical-align: middle;\n",
       "    }\n",
       "\n",
       "    .dataframe tbody tr th {\n",
       "        vertical-align: top;\n",
       "    }\n",
       "\n",
       "    .dataframe thead th {\n",
       "        text-align: right;\n",
       "    }\n",
       "</style>\n",
       "<table border=\"1\" class=\"dataframe\">\n",
       "  <thead>\n",
       "    <tr style=\"text-align: right;\">\n",
       "      <th></th>\n",
       "      <th>very_diligent_students</th>\n",
       "    </tr>\n",
       "  </thead>\n",
       "  <tbody>\n",
       "    <tr>\n",
       "      <th>0</th>\n",
       "      <td>0</td>\n",
       "    </tr>\n",
       "  </tbody>\n",
       "</table>\n",
       "</div>"
      ],
      "text/plain": [
       "   very_diligent_students\n",
       "0                       0"
      ]
     },
     "execution_count": 16,
     "metadata": {},
     "output_type": "execute_result"
    }
   ],
   "source": [
    "# создаем запрос ,где отбираем уникальных студентов и меняем им на very_diligent_students\n",
    "#  из таблицы peas. \n",
    "#  Добавляем фильтр только правильных ответов и месяц \"текущий\"\n",
    "#  группируем и отбираем только тех кто завершил не менее 20 горошин\n",
    "#  и оборачиваем все это в подзапрос\n",
    "v_d_s =\"\"\" \n",
    "    SELECT\n",
    "        COUNT(*) AS very_diligent_students\n",
    "    FROM (\n",
    "        SELECT\n",
    "            st_id\n",
    "        FROM\n",
    "            {db}.peas\n",
    "        WHERE\n",
    "            correct = 1 AND toMonth(timest) = toMonth(now()) \n",
    "        GROUP BY \n",
    "            st_id \n",
    "        HAVING \n",
    "            COUNT(correct) >= 20\n",
    "    ) subquery\n",
    "\"\"\"   \n",
    "\n",
    "# отправляем запрос и записываем результат \n",
    "v_d_s_df = ph.read_clickhouse(query=v_d_s, connection=connection_default)\n",
    "v_d_s_df"
   ]
  },
  {
   "cell_type": "markdown",
   "metadata": {},
   "source": [
    "Запрос выдает пустой результат так как максиальная дата в дата фейме ограничена 2021 годом."
   ]
  },
  {
   "cell_type": "markdown",
   "metadata": {},
   "source": [
    "### 2.2 Оптимизация воронки\n",
    "\n",
    "### 2.2.1 Условие\n",
    "\n",
    "Образовательная платформа предлагает пройти студентам курсы по модели trial: студент может решить бесплатно лишь 30 горошин в день. Для неограниченного количества заданий в определенной дисциплине студенту необходимо приобрести полный доступ. Команда провела эксперимент, где был протестирован новый экран оплаты.\n",
    "\n",
    "### 2.2.2 Задача\n",
    "\n",
    "Дана таблицы: default.peas (см. выше), default.studs:\n",
    "\n",
    "Название атрибута\tТип атрибута\tСмысловое значение\n",
    "st_id\tint\t ID ученика\n",
    "test_grp\ttext\t Метка ученика в данном эксперименте\n",
    "и default.final_project_check:\n",
    "\n",
    "Название атрибута\tТип атрибута\tСмысловое значение\n",
    "st_id\tint \tID ученика\n",
    "sale_time\ttimestamp\tВремя покупки\n",
    "money\tint\tЦена, по которой приобрели данный курс\n",
    "subject\ttext \t\n",
    "Необходимо в одном запросе выгрузить следующую информацию о группах пользователей:<br>\n",
    "\n",
    "ARPU<br> \n",
    "ARPAU <br>\n",
    "CR в покупку<br>\n",
    "СR активного пользователя в покупку<br> \n",
    "CR пользователя из активности по математике (subject = ’math’) в покупку курса по математике<br>\n",
    "ARPU считается относительно всех пользователей, попавших в группы.<br>\n",
    "\n",
    "Активным считается пользователь, за все время решивший больше 10 задач правильно в любых дисциплинах.\n",
    "\n",
    "Активным по математике считается пользователь, за все время решивший 2 или больше задач правильно по математике."
   ]
  },
  {
   "cell_type": "code",
   "execution_count": 27,
   "metadata": {},
   "outputs": [
    {
     "data": {
      "text/html": [
       "<div>\n",
       "<style scoped>\n",
       "    .dataframe tbody tr th:only-of-type {\n",
       "        vertical-align: middle;\n",
       "    }\n",
       "\n",
       "    .dataframe tbody tr th {\n",
       "        vertical-align: top;\n",
       "    }\n",
       "\n",
       "    .dataframe thead th {\n",
       "        text-align: right;\n",
       "    }\n",
       "</style>\n",
       "<table border=\"1\" class=\"dataframe\">\n",
       "  <thead>\n",
       "    <tr style=\"text-align: right;\">\n",
       "      <th></th>\n",
       "      <th>GROUP</th>\n",
       "      <th>ARPU</th>\n",
       "      <th>ARPAU</th>\n",
       "      <th>CR</th>\n",
       "      <th>CR_ACTIVE</th>\n",
       "      <th>CR_MATH</th>\n",
       "    </tr>\n",
       "  </thead>\n",
       "  <tbody>\n",
       "    <tr>\n",
       "      <th>0</th>\n",
       "      <td>control</td>\n",
       "      <td>4496.75</td>\n",
       "      <td>8993.51</td>\n",
       "      <td>0.06</td>\n",
       "      <td>0.12</td>\n",
       "      <td>0.06</td>\n",
       "    </tr>\n",
       "    <tr>\n",
       "      <th>1</th>\n",
       "      <td>pilot</td>\n",
       "      <td>11094.77</td>\n",
       "      <td>22290.08</td>\n",
       "      <td>0.14</td>\n",
       "      <td>0.27</td>\n",
       "      <td>0.09</td>\n",
       "    </tr>\n",
       "  </tbody>\n",
       "</table>\n",
       "</div>"
      ],
      "text/plain": [
       "     GROUP      ARPU     ARPAU    CR  CR_ACTIVE  CR_MATH\n",
       "0  control   4496.75   8993.51  0.06       0.12     0.06\n",
       "1    pilot  11094.77  22290.08  0.14       0.27     0.09"
      ]
     },
     "execution_count": 27,
     "metadata": {},
     "output_type": "execute_result"
    }
   ],
   "source": [
    "# воспользуемся модулем WITH для подготовки данных, найдем активных студнетов, найдем активных математиков,\n",
    "# посчитаем ARPU, ARPAU, CR в покупку, СR активного пользователя в покупку,\n",
    "# CR пользователя из активности по математике (subject = ’math’) в покупку курса по математике\n",
    "# разделив пользователей по группам.\n",
    "metrics =\"\"\" \n",
    "   WITH \n",
    "    activ_student AS (\n",
    "        SELECT st_id, COUNT(correct) AS correct_count\n",
    "        FROM default.peas\n",
    "        GROUP BY st_id \n",
    "        HAVING correct_count > 10\n",
    "    ), \n",
    "    active_math AS (\n",
    "        SELECT st_id, SUM(correct) AS corr_count \n",
    "        FROM default.peas \n",
    "        WHERE subject = 'Math' \n",
    "        GROUP BY st_id \n",
    "        HAVING corr_count >= 2\n",
    "    ), \n",
    "    arpu AS (\n",
    "        SELECT test_grp, ROUND(SUM(money) / COUNT(studs.st_id), 2) AS ARPU \n",
    "        FROM default.studs AS students \n",
    "        LEFT JOIN default.final_project_check AS f_p_c ON students.st_id = f_p_c.st_id \n",
    "        GROUP BY test_grp\n",
    "    ), \n",
    "    arpau AS (\n",
    "        SELECT test_grp, ROUND(SUM(money) / COUNT(students.st_id), 2) AS ARPAU \n",
    "        FROM default.studs AS students \n",
    "        LEFT JOIN default.final_project_check AS f_p_c ON students.st_id = f_p_c.st_id \n",
    "        WHERE st_id IN (SELECT st_id FROM activ_student) \n",
    "        GROUP BY test_grp\n",
    "    ),\n",
    "    cr AS (\n",
    "        SELECT test_grp, ROUND(COUNTIf(money > 0) / COUNT(students.st_id), 2) AS CR \n",
    "        FROM default.studs AS students \n",
    "        LEFT JOIN default.final_project_check AS f_p_c ON students.st_id = f_p_c.st_id \n",
    "        GROUP BY test_grp\n",
    "    ),\n",
    "    cr_active AS (\n",
    "        SELECT test_grp, ROUND(COUNTIf(money > 0) / COUNT(students.st_id), 2) AS CR_ACTIVE\n",
    "        FROM default.studs AS students \n",
    "        LEFT JOIN default.final_project_check AS f_p_c ON students.st_id = f_p_c.st_id \n",
    "        WHERE st_id IN (SELECT st_id FROM activ_student) \n",
    "        GROUP BY test_grp\n",
    "    ), \n",
    "    cr_math AS (\n",
    "        SELECT test_grp, \n",
    "        ROUND(COUNTIf(money > 0 AND subject = 'Math') / COUNT(students.st_id), 2) AS CR_MATH\n",
    "        FROM default.studs AS students \n",
    "        LEFT JOIN default.final_project_check AS f_p_c ON students.st_id = f_p_c.st_id \n",
    "        WHERE st_id IN (SELECT st_id FROM active_math) \n",
    "        GROUP BY test_grp\n",
    "    ) \n",
    "SELECT arpu.test_grp AS GROUP, ARPU, ARPAU, CR, CR_ACTIVE, CR_MATH \n",
    "FROM \n",
    "    arpu \n",
    "    INNER JOIN arpau ON arpu.test_grp = arpau.test_grp \n",
    "    INNER JOIN cr ON arpu.test_grp = cr.test_grp \n",
    "    INNER JOIN cr_active ON arpu.test_grp = cr_active.test_grp \n",
    "    INNER JOIN cr_math ON arpu.test_grp = cr_math.test_grp\n",
    "\n",
    "\"\"\"   \n",
    "\n",
    "# отправляем запрос и записываем результат \n",
    "metrics_df = ph.read_clickhouse(query=metrics, connection=connection_default)\n",
    "metrics_df\n"
   ]
  },
  {
   "cell_type": "markdown",
   "metadata": {},
   "source": [
    "### Задание 3. Python\n",
    "### 3.1 Задача\n",
    "\n",
    "Реализуйте функцию, которая будет автоматически подгружать информацию из дополнительного файла groups_add.csv (заголовки могут отличаться) и на основании дополнительных параметров пересчитывать метрики.\n",
    "Реализуйте функцию, которая будет строить графики по получаемым метрикам."
   ]
  },
  {
   "cell_type": "code",
   "execution_count": 47,
   "metadata": {},
   "outputs": [],
   "source": [
    "def loaded_data(base_url='https://cloud-api.yandex.net/v1/disk/public/resources/download?',\n",
    "                    groups='https://disk.yandex.ru/d/UhyYx41rTt3clQ',\n",
    "                    groups_add='https://disk.yandex.ru/d/5Kxrz02m3IBUwQ',\n",
    "                    active_studs='https://disk.yandex.ru/d/Tbs44Bm6H_FwFQ',\n",
    "                    checks='https://disk.yandex.ru/d/pH1q-VqcxXjsVA'):\n",
    "    \n",
    "    # загрузим данные с диска\n",
    "    url_groups= base_url + urlencode(dict(public_key= groups)) \n",
    "    url_groups_add= base_url + urlencode(dict(public_key= groups_add))\n",
    "    url_key_active_studs = base_url + urlencode(dict(public_key= active_studs))\n",
    "    url_key_checks= base_url + urlencode(dict(public_key= checks))\n",
    "\n",
    "    df_groups = pd.read_csv(requests\\\n",
    "                           .get(url_groups)\\\n",
    "                           .json()['href'], sep= ';'\n",
    "                           )\n",
    "    df_groups_add = pd.read_csv(requests\\\n",
    "                               .get(url_groups_add)\\\n",
    "                               .json()['href'], sep= ','\n",
    "                               )\n",
    "    df_active_studs = pd.read_csv(requests\\\n",
    "                                  .get(url_key_active_studs)\\\n",
    "                                  .json()['href'], sep= ';'\n",
    "                                 )\n",
    "    df_checks = pd.read_csv(requests\\\n",
    "                           .get(url_key_checks)\\\n",
    "                           .json()['href'], sep= ';'\n",
    "                           )\n",
    "    \n",
    "    #подготовка данных\n",
    "    df_groups = pd.concat([df_groups, df_groups_add], axis=0)\n",
    "    df_groups = df_groups.rename(columns={'id': 'student_id'})\n",
    "    df_active_studs['active'] = 1\n",
    "    df = (df_groups\n",
    "            .merge(df_active_studs,\n",
    "                   how='left',\n",
    "                   left_on='student_id',\n",
    "                   right_on='student_id')\\\n",
    "            .merge(df_checks,\n",
    "                   how='left',\n",
    "                   on='student_id')\n",
    "          )\n",
    "    df['active'] = df['active'].fillna(0).astype(int)\n",
    "    df.loc[df['active'] != 0, 'active'] = 0\n",
    "    df['rev'] = df['rev'].fillna(0).astype(int)\n",
    "    # отсортируем студентов по группам с фильтрацией А/Б и активный/неактивный\n",
    "    student_count_df = (df\n",
    "                        .groupby(['grp', 'active'])['student_id']\n",
    "                        .count()\n",
    "                        .reset_index()\n",
    "                        .rename(columns={'student_id': 'student_count'})\n",
    "                       )\n",
    "    # посчитаем сколькиие из них совершили покупку\n",
    "    student_rev_count = (df\n",
    "                         .query('rev > 0')\n",
    "                         .groupby(['grp', 'active'])['student_id']\n",
    "                         .count()\n",
    "                         .reset_index()\n",
    "                         .rename(columns={'student_id': 'student_rev_count'})\n",
    "                        )\n",
    "    # сумму выручки по группам\n",
    "    rev_df = (df\n",
    "              .groupby(['grp', 'active'], as_index=False)['rev'].sum().round(2)\n",
    "             )\n",
    "    # соберем в одну таблицу\n",
    "    metric = (student_count_df\n",
    "              .merge(rev_df,\n",
    "                     on=['grp', 'active'],\n",
    "                     how='inner')\n",
    "              .merge(student_rev_count,\n",
    "                     on=['grp', 'active'],\n",
    "                     how='inner')\n",
    "              )\n",
    "\n",
    "\n",
    "    # ARPU \n",
    "    metric['arppu'] = (metric['rev'] / metric['student_rev_count']).round(2)\n",
    "    # ARPPU \n",
    "    metric['arpu'] = (metric['rev'] / metric['student_count']).round(2)\n",
    "    \n",
    "    # и конверсию \n",
    "    metric['cr'] = ((metric['student_rev_count'] / metric['student_count']) * 100).round(2)\n",
    "   \n",
    "       \n",
    "    return metric\n",
    " "
   ]
  },
  {
   "cell_type": "code",
   "execution_count": 48,
   "metadata": {},
   "outputs": [],
   "source": [
    "result_table = loaded_data()\n"
   ]
  },
  {
   "cell_type": "code",
   "execution_count": 49,
   "metadata": {},
   "outputs": [
    {
     "data": {
      "text/html": [
       "<div>\n",
       "<style scoped>\n",
       "    .dataframe tbody tr th:only-of-type {\n",
       "        vertical-align: middle;\n",
       "    }\n",
       "\n",
       "    .dataframe tbody tr th {\n",
       "        vertical-align: top;\n",
       "    }\n",
       "\n",
       "    .dataframe thead th {\n",
       "        text-align: right;\n",
       "    }\n",
       "</style>\n",
       "<table border=\"1\" class=\"dataframe\">\n",
       "  <thead>\n",
       "    <tr style=\"text-align: right;\">\n",
       "      <th></th>\n",
       "      <th>grp</th>\n",
       "      <th>active</th>\n",
       "      <th>student_count</th>\n",
       "      <th>rev</th>\n",
       "      <th>student_rev_count</th>\n",
       "      <th>arppu</th>\n",
       "      <th>arpu</th>\n",
       "      <th>cr</th>\n",
       "    </tr>\n",
       "  </thead>\n",
       "  <tbody>\n",
       "    <tr>\n",
       "      <th>0</th>\n",
       "      <td>A</td>\n",
       "      <td>0</td>\n",
       "      <td>14693</td>\n",
       "      <td>92096</td>\n",
       "      <td>107</td>\n",
       "      <td>860.71</td>\n",
       "      <td>6.27</td>\n",
       "      <td>0.73</td>\n",
       "    </tr>\n",
       "    <tr>\n",
       "      <th>1</th>\n",
       "      <td>B</td>\n",
       "      <td>0</td>\n",
       "      <td>59883</td>\n",
       "      <td>481230</td>\n",
       "      <td>434</td>\n",
       "      <td>1108.82</td>\n",
       "      <td>8.04</td>\n",
       "      <td>0.72</td>\n",
       "    </tr>\n",
       "  </tbody>\n",
       "</table>\n",
       "</div>"
      ],
      "text/plain": [
       "  grp  active  student_count     rev  student_rev_count    arppu  arpu    cr\n",
       "0   A       0          14693   92096                107   860.71  6.27  0.73\n",
       "1   B       0          59883  481230                434  1108.82  8.04  0.72"
      ]
     },
     "execution_count": 49,
     "metadata": {},
     "output_type": "execute_result"
    }
   ],
   "source": [
    "result_table"
   ]
  },
  {
   "cell_type": "code",
   "execution_count": 38,
   "metadata": {},
   "outputs": [],
   "source": [
    "def plots(result_table):\n",
    "    \"\"\"\n",
    "    Функция для создания и отображения графиков метрик из таблицы результатов.\n",
    "    \n",
    "    Args:\n",
    "        result_table (DataFrame): Таблица с результатами метрик.\n",
    "    \"\"\"\n",
    "    \n",
    "    # Создание subplot'ов\n",
    "    fig, axs = plt.subplots(nrows=1, ncols=4, figsize=(20, 10), sharey='col', sharex=True)\n",
    "    \n",
    "    # Настройка каждого subplot'а\n",
    "    for name, ax in zip(['Conversion Rate', 'ARPU', 'ARPPU', 'Revenue'], axs.flatten()):\n",
    "        ax.set(title=f'График {name}')\n",
    "        ax.tick_params(labelbottom=True, which='both')\n",
    "\n",
    "    # Построение графиков\n",
    "    axs[0].bar(result_table.grp, result_table['cr'])\n",
    "    axs[1].bar(result_table.grp, result_table['arpu'])\n",
    "    axs[2].bar(result_table.grp, result_table['arppu'])\n",
    "    axs[3].bar(result_table.grp, result_table['rev'])\n",
    "    \n",
    "    # Добавление общего заголовка\n",
    "    fig.suptitle('Метрики')\n",
    "    \n",
    "    # Отображение графиков\n",
    "    plt.show()\n"
   ]
  },
  {
   "cell_type": "code",
   "execution_count": 39,
   "metadata": {},
   "outputs": [
    {
     "data": {
      "image/png": "[encoded data removed]",
      "text/plain": [
       "<Figure size 1440x720 with 4 Axes>"
      ]
     },
     "metadata": {
      "needs_background": "light"
     },
     "output_type": "display_data"
    }
   ],
   "source": [
    "plots(result_table)"
   ]
  },
  {
   "cell_type": "code",
   "execution_count": null,
   "metadata": {},
   "outputs": [],
   "source": []
  }
 ],
 "metadata": {
  "kernelspec": {
   "display_name": "Python 3",
   "language": "python",
   "name": "python3"
  },
  "language_info": {
   "codemirror_mode": {
    "name": "ipython",
    "version": 3
   },
   "file_extension": ".py",
   "mimetype": "text/x-python",
   "name": "python",
   "nbconvert_exporter": "python",
   "pygments_lexer": "ipython3",
   "version": "3.7.3"
  }
 },
 "nbformat": 4,
 "nbformat_minor": 4
}
